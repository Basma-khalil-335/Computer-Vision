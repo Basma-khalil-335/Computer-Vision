{
  "nbformat": 4,
  "nbformat_minor": 0,
  "metadata": {
    "colab": {
      "provenance": [],
      "gpuType": "T4"
    },
    "kernelspec": {
      "name": "python3",
      "display_name": "Python 3"
    },
    "language_info": {
      "name": "python"
    },
    "accelerator": "GPU"
  },
  "cells": [
    {
      "cell_type": "markdown",
      "source": [
        "# 1- Import libraries\n",
        "\n"
      ],
      "metadata": {
        "id": "Mpb3V-MK1Jj4"
      }
    },
    {
      "cell_type": "code",
      "execution_count": null,
      "metadata": {
        "id": "HtzWvxVB0UTN"
      },
      "outputs": [],
      "source": [
        "#Basics libraries\n",
        "import numpy as np\n",
        "import pandas as pd\n",
        "import matplotlib.pyplot as plt\n",
        "import seaborn as sns\n",
        "from pathlib import Path\n",
        "import os\n",
        "import random # Import random library\n",
        "import tensorflow as tf # Import tensorflow library\n",
        "SEED = 42\n",
        "random.seed(SEED)\n",
        "np.random.seed(SEED)\n",
        "tf.random.set_seed(SEED)\n",
        "\n",
        "\n",
        "\n",
        "# Image processing libraries\n",
        "from tensorflow.keras.preprocessing.image import ImageDataGenerator, load_img, img_to_array\n",
        "\n",
        "# Deep Learning Model Libraries\n",
        "from tensorflow.keras.models import Sequential\n",
        "from tensorflow.keras.layers import Dense, Input, Flatten, Dropout, InputLayer\n",
        "from tensorflow.keras.applications import VGG19\n",
        "from tensorflow.keras.optimizers import Adam"
      ]
    },
    {
      "cell_type": "markdown",
      "source": [
        "# 2-Data Download\n"
      ],
      "metadata": {
        "id": "Rwl3PHo6LF0w"
      }
    },
    {
      "cell_type": "code",
      "source": [
        "import kagglehub\n",
        "\n",
        "# Download latest version\n",
        "path = kagglehub.dataset_download(\"rashikrahmanpritom/plant-disease-recognition-dataset\")\n",
        "\n",
        "print(\"Path to dataset files:\", path)"
      ],
      "metadata": {
        "colab": {
          "base_uri": "https://localhost:8080/"
        },
        "id": "6PO0o5tkLLlQ",
        "outputId": "5c6bcc2e-ab48-4761-f561-064e42b916ce"
      },
      "execution_count": null,
      "outputs": [
        {
          "output_type": "stream",
          "name": "stdout",
          "text": [
            "Using Colab cache for faster access to the 'plant-disease-recognition-dataset' dataset.\n",
            "Path to dataset files: /kaggle/input/plant-disease-recognition-dataset\n"
          ]
        }
      ]
    },
    {
      "cell_type": "code",
      "source": [
        "download_path = \"/root/.cache/kagglehub/datasets/rashikrahmanpritom/plant-disease-recognition-dataset/versions/1\"\n",
        "train_dir = os.path.join(download_path, \"Train\", \"Train\")\n",
        "val_dir = os.path.join(download_path, \"Validation\", \"Validation\")\n",
        "test_dir = os.path.join(download_path, \"Test\", \"Test\")"
      ],
      "metadata": {
        "id": "oLkKdh_OMbFe"
      },
      "execution_count": null,
      "outputs": []
    },
    {
      "cell_type": "markdown",
      "source": [
        "# 3-Data Augmentation"
      ],
      "metadata": {
        "id": "OOdP3BNCTA10"
      }
    },
    {
      "cell_type": "code",
      "source": [
        "train_datagen = ImageDataGenerator(rescale=1./255, horizontal_flip= True, rotation_range=20, zoom_range=0.2)\n",
        "val_datagen = ImageDataGenerator(rescale=1./255)\n",
        "test_datagen = ImageDataGenerator(rescale=1./255)\n"
      ],
      "metadata": {
        "id": "_8RhkHiESxo-"
      },
      "execution_count": null,
      "outputs": []
    },
    {
      "cell_type": "markdown",
      "source": [
        "# 4-Load Data."
      ],
      "metadata": {
        "id": "-9ccKf6vTtqG"
      }
    },
    {
      "cell_type": "code",
      "source": [
        "train_generator = train_datagen.flow_from_directory(\n",
        "    train_dir,\n",
        "    target_size=(224,224),\n",
        "    batch_size=32,\n",
        "    class_mode='categorical', seed=SEED\n",
        ")\n",
        "\n",
        "val_generator = val_datagen.flow_from_directory(\n",
        "    val_dir,\n",
        "    target_size=(224,224),\n",
        "    batch_size=32,\n",
        "    class_mode='categorical',seed=SEED\n",
        ")\n",
        "\n",
        "test_generator = test_datagen.flow_from_directory(\n",
        "    test_dir,\n",
        "    target_size=(224, 224),\n",
        "    batch_size=32,\n",
        "    class_mode='categorical',\n",
        "    shuffle=False,seed=SEED\n",
        ")\n"
      ],
      "metadata": {
        "colab": {
          "base_uri": "https://localhost:8080/"
        },
        "id": "x8f2sjX2Tyx5",
        "outputId": "ae402c1c-d1c6-4f57-b1d5-1451e95c2c29"
      },
      "execution_count": null,
      "outputs": [
        {
          "output_type": "stream",
          "name": "stdout",
          "text": [
            "Found 1322 images belonging to 3 classes.\n",
            "Found 60 images belonging to 3 classes.\n",
            "Found 150 images belonging to 3 classes.\n"
          ]
        }
      ]
    },
    {
      "cell_type": "code",
      "source": [
        "print(train_generator.class_indices)\n",
        "print(train_generator.num_classes)\n"
      ],
      "metadata": {
        "colab": {
          "base_uri": "https://localhost:8080/"
        },
        "id": "O8hE43JjYx2X",
        "outputId": "cdebd2ba-a48e-4431-a681-070d41055fa1"
      },
      "execution_count": null,
      "outputs": [
        {
          "output_type": "stream",
          "name": "stdout",
          "text": [
            "{'Healthy': 0, 'Powdery': 1, 'Rust': 2}\n",
            "3\n"
          ]
        }
      ]
    },
    {
      "cell_type": "markdown",
      "source": [
        "# 5- Model."
      ],
      "metadata": {
        "id": "6jtwv54HVNla"
      }
    },
    {
      "cell_type": "code",
      "source": [
        "from typing_extensions import Literal\n",
        "base_model = VGG19(include_top=False,weights=\"imagenet\",input_shape=(224,224,3))\n",
        "base_model.trainable = False\n",
        "for layer in base_model.layers:\n",
        "  layer.trainable = True\n",
        "for layer in base_model.layers[:-2]:\n",
        "  layer.trainable = False\n",
        "\n",
        "from tensorflow.keras.models import Model\n",
        "inputs = Input(shape=(224,224,3))\n",
        "# Chain layers\n",
        "x = base_model(inputs)\n",
        "x = Flatten()(x)\n",
        "x = Dense(1024, activation='relu')(x)\n",
        "x = Dropout(0.5)(x)\n",
        "x = Dense(512, activation='relu')(x)\n",
        "x = Dropout(0.5)(x)\n",
        "x = Dense(256, activation='relu')(x)\n",
        "x = Dropout(0.5)(x)\n",
        "outputs = Dense(train_generator.num_classes, activation='softmax')(x) # Changed to 3 units for 3 classes\n",
        "# Define model\n",
        "transfer_model = Model(inputs, outputs)\n",
        "\n",
        "\n",
        "transfer_model.compile(loss=\"categorical_crossentropy\", optimizer=Adam(learning_rate=0.001), metrics=[\"accuracy\"])"
      ],
      "metadata": {
        "id": "PIIWfx_vUan4"
      },
      "execution_count": null,
      "outputs": []
    },
    {
      "cell_type": "code",
      "source": [
        "print(train_generator.class_mode)\n",
        "print(val_generator.class_mode)\n",
        "print(train_generator.num_classes)\n"
      ],
      "metadata": {
        "colab": {
          "base_uri": "https://localhost:8080/"
        },
        "id": "p-Hse4n7X8yC",
        "outputId": "afc3e54b-34f5-4a8d-e9c2-8f4b57e97bef"
      },
      "execution_count": null,
      "outputs": [
        {
          "output_type": "stream",
          "name": "stdout",
          "text": [
            "categorical\n",
            "categorical\n",
            "3\n"
          ]
        }
      ]
    },
    {
      "cell_type": "code",
      "source": [
        "transfer_model.summary()\n"
      ],
      "metadata": {
        "colab": {
          "base_uri": "https://localhost:8080/",
          "height": 457
        },
        "id": "IfGeef7vVIoc",
        "outputId": "86b66a7a-d1ee-4514-9462-f9f1d0aa2077"
      },
      "execution_count": null,
      "outputs": [
        {
          "output_type": "display_data",
          "data": {
            "text/plain": [
              "\u001b[1mModel: \"functional\"\u001b[0m\n"
            ],
            "text/html": [
              "<pre style=\"white-space:pre;overflow-x:auto;line-height:normal;font-family:Menlo,'DejaVu Sans Mono',consolas,'Courier New',monospace\"><span style=\"font-weight: bold\">Model: \"functional\"</span>\n",
              "</pre>\n"
            ]
          },
          "metadata": {}
        },
        {
          "output_type": "display_data",
          "data": {
            "text/plain": [
              "┏━━━━━━━━━━━━━━━━━━━━━━━━━━━━━━━━━┳━━━━━━━━━━━━━━━━━━━━━━━━┳━━━━━━━━━━━━━━━┓\n",
              "┃\u001b[1m \u001b[0m\u001b[1mLayer (type)                   \u001b[0m\u001b[1m \u001b[0m┃\u001b[1m \u001b[0m\u001b[1mOutput Shape          \u001b[0m\u001b[1m \u001b[0m┃\u001b[1m \u001b[0m\u001b[1m      Param #\u001b[0m\u001b[1m \u001b[0m┃\n",
              "┡━━━━━━━━━━━━━━━━━━━━━━━━━━━━━━━━━╇━━━━━━━━━━━━━━━━━━━━━━━━╇━━━━━━━━━━━━━━━┩\n",
              "│ input_layer_1 (\u001b[38;5;33mInputLayer\u001b[0m)      │ (\u001b[38;5;45mNone\u001b[0m, \u001b[38;5;34m224\u001b[0m, \u001b[38;5;34m224\u001b[0m, \u001b[38;5;34m3\u001b[0m)    │             \u001b[38;5;34m0\u001b[0m │\n",
              "├─────────────────────────────────┼────────────────────────┼───────────────┤\n",
              "│ vgg19 (\u001b[38;5;33mFunctional\u001b[0m)              │ (\u001b[38;5;45mNone\u001b[0m, \u001b[38;5;34m7\u001b[0m, \u001b[38;5;34m7\u001b[0m, \u001b[38;5;34m512\u001b[0m)      │    \u001b[38;5;34m20,024,384\u001b[0m │\n",
              "├─────────────────────────────────┼────────────────────────┼───────────────┤\n",
              "│ flatten (\u001b[38;5;33mFlatten\u001b[0m)               │ (\u001b[38;5;45mNone\u001b[0m, \u001b[38;5;34m25088\u001b[0m)          │             \u001b[38;5;34m0\u001b[0m │\n",
              "├─────────────────────────────────┼────────────────────────┼───────────────┤\n",
              "│ dense (\u001b[38;5;33mDense\u001b[0m)                   │ (\u001b[38;5;45mNone\u001b[0m, \u001b[38;5;34m1024\u001b[0m)           │    \u001b[38;5;34m25,691,136\u001b[0m │\n",
              "├─────────────────────────────────┼────────────────────────┼───────────────┤\n",
              "│ dropout (\u001b[38;5;33mDropout\u001b[0m)               │ (\u001b[38;5;45mNone\u001b[0m, \u001b[38;5;34m1024\u001b[0m)           │             \u001b[38;5;34m0\u001b[0m │\n",
              "├─────────────────────────────────┼────────────────────────┼───────────────┤\n",
              "│ dense_1 (\u001b[38;5;33mDense\u001b[0m)                 │ (\u001b[38;5;45mNone\u001b[0m, \u001b[38;5;34m512\u001b[0m)            │       \u001b[38;5;34m524,800\u001b[0m │\n",
              "├─────────────────────────────────┼────────────────────────┼───────────────┤\n",
              "│ dropout_1 (\u001b[38;5;33mDropout\u001b[0m)             │ (\u001b[38;5;45mNone\u001b[0m, \u001b[38;5;34m512\u001b[0m)            │             \u001b[38;5;34m0\u001b[0m │\n",
              "├─────────────────────────────────┼────────────────────────┼───────────────┤\n",
              "│ dense_2 (\u001b[38;5;33mDense\u001b[0m)                 │ (\u001b[38;5;45mNone\u001b[0m, \u001b[38;5;34m256\u001b[0m)            │       \u001b[38;5;34m131,328\u001b[0m │\n",
              "├─────────────────────────────────┼────────────────────────┼───────────────┤\n",
              "│ dropout_2 (\u001b[38;5;33mDropout\u001b[0m)             │ (\u001b[38;5;45mNone\u001b[0m, \u001b[38;5;34m256\u001b[0m)            │             \u001b[38;5;34m0\u001b[0m │\n",
              "├─────────────────────────────────┼────────────────────────┼───────────────┤\n",
              "│ dense_3 (\u001b[38;5;33mDense\u001b[0m)                 │ (\u001b[38;5;45mNone\u001b[0m, \u001b[38;5;34m3\u001b[0m)              │           \u001b[38;5;34m771\u001b[0m │\n",
              "└─────────────────────────────────┴────────────────────────┴───────────────┘\n"
            ],
            "text/html": [
              "<pre style=\"white-space:pre;overflow-x:auto;line-height:normal;font-family:Menlo,'DejaVu Sans Mono',consolas,'Courier New',monospace\">┏━━━━━━━━━━━━━━━━━━━━━━━━━━━━━━━━━┳━━━━━━━━━━━━━━━━━━━━━━━━┳━━━━━━━━━━━━━━━┓\n",
              "┃<span style=\"font-weight: bold\"> Layer (type)                    </span>┃<span style=\"font-weight: bold\"> Output Shape           </span>┃<span style=\"font-weight: bold\">       Param # </span>┃\n",
              "┡━━━━━━━━━━━━━━━━━━━━━━━━━━━━━━━━━╇━━━━━━━━━━━━━━━━━━━━━━━━╇━━━━━━━━━━━━━━━┩\n",
              "│ input_layer_1 (<span style=\"color: #0087ff; text-decoration-color: #0087ff\">InputLayer</span>)      │ (<span style=\"color: #00d7ff; text-decoration-color: #00d7ff\">None</span>, <span style=\"color: #00af00; text-decoration-color: #00af00\">224</span>, <span style=\"color: #00af00; text-decoration-color: #00af00\">224</span>, <span style=\"color: #00af00; text-decoration-color: #00af00\">3</span>)    │             <span style=\"color: #00af00; text-decoration-color: #00af00\">0</span> │\n",
              "├─────────────────────────────────┼────────────────────────┼───────────────┤\n",
              "│ vgg19 (<span style=\"color: #0087ff; text-decoration-color: #0087ff\">Functional</span>)              │ (<span style=\"color: #00d7ff; text-decoration-color: #00d7ff\">None</span>, <span style=\"color: #00af00; text-decoration-color: #00af00\">7</span>, <span style=\"color: #00af00; text-decoration-color: #00af00\">7</span>, <span style=\"color: #00af00; text-decoration-color: #00af00\">512</span>)      │    <span style=\"color: #00af00; text-decoration-color: #00af00\">20,024,384</span> │\n",
              "├─────────────────────────────────┼────────────────────────┼───────────────┤\n",
              "│ flatten (<span style=\"color: #0087ff; text-decoration-color: #0087ff\">Flatten</span>)               │ (<span style=\"color: #00d7ff; text-decoration-color: #00d7ff\">None</span>, <span style=\"color: #00af00; text-decoration-color: #00af00\">25088</span>)          │             <span style=\"color: #00af00; text-decoration-color: #00af00\">0</span> │\n",
              "├─────────────────────────────────┼────────────────────────┼───────────────┤\n",
              "│ dense (<span style=\"color: #0087ff; text-decoration-color: #0087ff\">Dense</span>)                   │ (<span style=\"color: #00d7ff; text-decoration-color: #00d7ff\">None</span>, <span style=\"color: #00af00; text-decoration-color: #00af00\">1024</span>)           │    <span style=\"color: #00af00; text-decoration-color: #00af00\">25,691,136</span> │\n",
              "├─────────────────────────────────┼────────────────────────┼───────────────┤\n",
              "│ dropout (<span style=\"color: #0087ff; text-decoration-color: #0087ff\">Dropout</span>)               │ (<span style=\"color: #00d7ff; text-decoration-color: #00d7ff\">None</span>, <span style=\"color: #00af00; text-decoration-color: #00af00\">1024</span>)           │             <span style=\"color: #00af00; text-decoration-color: #00af00\">0</span> │\n",
              "├─────────────────────────────────┼────────────────────────┼───────────────┤\n",
              "│ dense_1 (<span style=\"color: #0087ff; text-decoration-color: #0087ff\">Dense</span>)                 │ (<span style=\"color: #00d7ff; text-decoration-color: #00d7ff\">None</span>, <span style=\"color: #00af00; text-decoration-color: #00af00\">512</span>)            │       <span style=\"color: #00af00; text-decoration-color: #00af00\">524,800</span> │\n",
              "├─────────────────────────────────┼────────────────────────┼───────────────┤\n",
              "│ dropout_1 (<span style=\"color: #0087ff; text-decoration-color: #0087ff\">Dropout</span>)             │ (<span style=\"color: #00d7ff; text-decoration-color: #00d7ff\">None</span>, <span style=\"color: #00af00; text-decoration-color: #00af00\">512</span>)            │             <span style=\"color: #00af00; text-decoration-color: #00af00\">0</span> │\n",
              "├─────────────────────────────────┼────────────────────────┼───────────────┤\n",
              "│ dense_2 (<span style=\"color: #0087ff; text-decoration-color: #0087ff\">Dense</span>)                 │ (<span style=\"color: #00d7ff; text-decoration-color: #00d7ff\">None</span>, <span style=\"color: #00af00; text-decoration-color: #00af00\">256</span>)            │       <span style=\"color: #00af00; text-decoration-color: #00af00\">131,328</span> │\n",
              "├─────────────────────────────────┼────────────────────────┼───────────────┤\n",
              "│ dropout_2 (<span style=\"color: #0087ff; text-decoration-color: #0087ff\">Dropout</span>)             │ (<span style=\"color: #00d7ff; text-decoration-color: #00d7ff\">None</span>, <span style=\"color: #00af00; text-decoration-color: #00af00\">256</span>)            │             <span style=\"color: #00af00; text-decoration-color: #00af00\">0</span> │\n",
              "├─────────────────────────────────┼────────────────────────┼───────────────┤\n",
              "│ dense_3 (<span style=\"color: #0087ff; text-decoration-color: #0087ff\">Dense</span>)                 │ (<span style=\"color: #00d7ff; text-decoration-color: #00d7ff\">None</span>, <span style=\"color: #00af00; text-decoration-color: #00af00\">3</span>)              │           <span style=\"color: #00af00; text-decoration-color: #00af00\">771</span> │\n",
              "└─────────────────────────────────┴────────────────────────┴───────────────┘\n",
              "</pre>\n"
            ]
          },
          "metadata": {}
        },
        {
          "output_type": "display_data",
          "data": {
            "text/plain": [
              "\u001b[1m Total params: \u001b[0m\u001b[38;5;34m46,372,419\u001b[0m (176.90 MB)\n"
            ],
            "text/html": [
              "<pre style=\"white-space:pre;overflow-x:auto;line-height:normal;font-family:Menlo,'DejaVu Sans Mono',consolas,'Courier New',monospace\"><span style=\"font-weight: bold\"> Total params: </span><span style=\"color: #00af00; text-decoration-color: #00af00\">46,372,419</span> (176.90 MB)\n",
              "</pre>\n"
            ]
          },
          "metadata": {}
        },
        {
          "output_type": "display_data",
          "data": {
            "text/plain": [
              "\u001b[1m Trainable params: \u001b[0m\u001b[38;5;34m28,707,843\u001b[0m (109.51 MB)\n"
            ],
            "text/html": [
              "<pre style=\"white-space:pre;overflow-x:auto;line-height:normal;font-family:Menlo,'DejaVu Sans Mono',consolas,'Courier New',monospace\"><span style=\"font-weight: bold\"> Trainable params: </span><span style=\"color: #00af00; text-decoration-color: #00af00\">28,707,843</span> (109.51 MB)\n",
              "</pre>\n"
            ]
          },
          "metadata": {}
        },
        {
          "output_type": "display_data",
          "data": {
            "text/plain": [
              "\u001b[1m Non-trainable params: \u001b[0m\u001b[38;5;34m17,664,576\u001b[0m (67.39 MB)\n"
            ],
            "text/html": [
              "<pre style=\"white-space:pre;overflow-x:auto;line-height:normal;font-family:Menlo,'DejaVu Sans Mono',consolas,'Courier New',monospace\"><span style=\"font-weight: bold\"> Non-trainable params: </span><span style=\"color: #00af00; text-decoration-color: #00af00\">17,664,576</span> (67.39 MB)\n",
              "</pre>\n"
            ]
          },
          "metadata": {}
        }
      ]
    },
    {
      "cell_type": "markdown",
      "source": [
        "# 6- Training Model.\n"
      ],
      "metadata": {
        "id": "kqQ8xw6FVRC4"
      }
    },
    {
      "cell_type": "code",
      "source": [
        "from tensorflow.keras.callbacks import EarlyStopping\n",
        "early_stop = EarlyStopping(\n",
        "    monitor='val_loss',\n",
        "    restore_best_weights=True\n",
        ")\n",
        "\n",
        "history = transfer_model.fit(\n",
        "    train_generator,\n",
        "    validation_data=val_generator,\n",
        "    epochs=30 , callbacks=[early_stop]\n",
        "\n",
        ")"
      ],
      "metadata": {
        "colab": {
          "base_uri": "https://localhost:8080/"
        },
        "id": "oyk_iv3sVVbA",
        "outputId": "886fa4a1-cfc5-4c38-aca7-0561f70be946"
      },
      "execution_count": null,
      "outputs": [
        {
          "output_type": "stream",
          "name": "stderr",
          "text": [
            "/usr/local/lib/python3.12/dist-packages/keras/src/trainers/data_adapters/py_dataset_adapter.py:121: UserWarning: Your `PyDataset` class should call `super().__init__(**kwargs)` in its constructor. `**kwargs` can include `workers`, `use_multiprocessing`, `max_queue_size`. Do not pass these arguments to `fit()`, as they will be ignored.\n",
            "  self._warn_if_super_not_called()\n"
          ]
        },
        {
          "output_type": "stream",
          "name": "stdout",
          "text": [
            "Epoch 1/30\n",
            "\u001b[1m42/42\u001b[0m \u001b[32m━━━━━━━━━━━━━━━━━━━━\u001b[0m\u001b[37m\u001b[0m \u001b[1m140s\u001b[0m 3s/step - accuracy: 0.3990 - loss: 1.8204 - val_accuracy: 0.7833 - val_loss: 0.5185\n",
            "Epoch 2/30\n",
            "\u001b[1m42/42\u001b[0m \u001b[32m━━━━━━━━━━━━━━━━━━━━\u001b[0m\u001b[37m\u001b[0m \u001b[1m87s\u001b[0m 2s/step - accuracy: 0.7864 - loss: 0.5545 - val_accuracy: 0.9333 - val_loss: 0.2445\n",
            "Epoch 3/30\n",
            "\u001b[1m42/42\u001b[0m \u001b[32m━━━━━━━━━━━━━━━━━━━━\u001b[0m\u001b[37m\u001b[0m \u001b[1m88s\u001b[0m 2s/step - accuracy: 0.9180 - loss: 0.2477 - val_accuracy: 0.9167 - val_loss: 0.1515\n",
            "Epoch 4/30\n",
            "\u001b[1m42/42\u001b[0m \u001b[32m━━━━━━━━━━━━━━━━━━━━\u001b[0m\u001b[37m\u001b[0m \u001b[1m93s\u001b[0m 2s/step - accuracy: 0.9220 - loss: 0.2641 - val_accuracy: 0.9333 - val_loss: 0.1923\n"
          ]
        }
      ]
    },
    {
      "cell_type": "markdown",
      "source": [
        "# 7- Performance Evaluation"
      ],
      "metadata": {
        "id": "LsVIxlULVpIU"
      }
    },
    {
      "cell_type": "code",
      "source": [
        "plt.plot(history.history['accuracy'], label='train_accuracy')\n",
        "plt.plot(history.history['val_accuracy'], label='val_accuracy')\n",
        "plt.legend()\n",
        "plt.show()\n"
      ],
      "metadata": {
        "id": "N4FIsHYaVxpe",
        "colab": {
          "base_uri": "https://localhost:8080/",
          "height": 430
        },
        "outputId": "32f94cff-48d8-4a93-9bb9-8cdbd758afc4"
      },
      "execution_count": null,
      "outputs": [
        {
          "output_type": "display_data",
          "data": {
            "text/plain": [
              "<Figure size 640x480 with 1 Axes>"
            ],
            "image/png": "[encoded data removed]"
          },
          "metadata": {}
        }
      ]
    },
    {
      "cell_type": "markdown",
      "source": [
        "# 7- Save Model"
      ],
      "metadata": {
        "id": "be3pdT1UioAx"
      }
    },
    {
      "cell_type": "code",
      "source": [
        "transfer_model.save(\"plant_pathology_model.keras\")"
      ],
      "metadata": {
        "id": "IdgZeGaAVnLL"
      },
      "execution_count": null,
      "outputs": []
    },
    {
      "cell_type": "markdown",
      "source": [
        "# 8-Evaluate the test set"
      ],
      "metadata": {
        "id": "4CHcHRdNij2m"
      }
    },
    {
      "cell_type": "code",
      "source": [
        "test_loss, test_acc = transfer_model.evaluate(test_generator)\n",
        "print(\"Test accuracy:\", test_acc)"
      ],
      "metadata": {
        "id": "T8CFrg9SivR9",
        "colab": {
          "base_uri": "https://localhost:8080/"
        },
        "outputId": "54b18acf-477e-46b1-b7cc-4089b2ec7625"
      },
      "execution_count": null,
      "outputs": [
        {
          "output_type": "stream",
          "name": "stdout",
          "text": [
            "\u001b[1m5/5\u001b[0m \u001b[32m━━━━━━━━━━━━━━━━━━━━\u001b[0m\u001b[37m\u001b[0m \u001b[1m20s\u001b[0m 4s/step - accuracy: 0.9504 - loss: 0.1814\n",
            "Test accuracy: 0.9266666769981384\n"
          ]
        }
      ]
    },
    {
      "cell_type": "code",
      "source": [
        "\n",
        "preds = transfer_model.predict(test_generator)\n",
        "preds"
      ],
      "metadata": {
        "id": "PGNTzhutizX-",
        "colab": {
          "base_uri": "https://localhost:8080/"
        },
        "outputId": "d07d4843-c1f4-414e-d6c8-1999727b7c62"
      },
      "execution_count": null,
      "outputs": [
        {
          "output_type": "stream",
          "name": "stdout",
          "text": [
            "\u001b[1m5/5\u001b[0m \u001b[32m━━━━━━━━━━━━━━━━━━━━\u001b[0m\u001b[37m\u001b[0m \u001b[1m9s\u001b[0m 1s/step\n"
          ]
        },
        {
          "output_type": "execute_result",
          "data": {
            "text/plain": [
              "array([[9.07821894e-01, 2.63456237e-02, 6.58325180e-02],\n",
              "       [8.27124476e-01, 9.81496647e-02, 7.47258589e-02],\n",
              "       [9.21198726e-01, 7.14483671e-03, 7.16564208e-02],\n",
              "       [8.91543448e-01, 1.97816174e-02, 8.86748880e-02],\n",
              "       [9.39052224e-01, 9.24373977e-03, 5.17040528e-02],\n",
              "       [8.12119901e-01, 7.05391020e-02, 1.17341019e-01],\n",
              "       [9.94998157e-01, 6.60116377e-04, 4.34176577e-03],\n",
              "       [8.99372756e-01, 1.66997313e-02, 8.39275941e-02],\n",
              "       [9.84138668e-01, 1.64193381e-03, 1.42193912e-02],\n",
              "       [9.74166691e-01, 3.41897458e-03, 2.24143714e-02],\n",
              "       [9.91461515e-01, 2.55532353e-03, 5.98323345e-03],\n",
              "       [9.90610898e-01, 2.73726997e-03, 6.65174657e-03],\n",
              "       [9.71933305e-01, 4.05273912e-03, 2.40138676e-02],\n",
              "       [9.27693367e-01, 9.25485976e-03, 6.30518049e-02],\n",
              "       [9.67741072e-01, 7.64914136e-03, 2.46097799e-02],\n",
              "       [9.33754981e-01, 1.25384480e-02, 5.37065789e-02],\n",
              "       [6.94493532e-01, 2.69027680e-01, 3.64788324e-02],\n",
              "       [9.92485583e-01, 5.80404478e-04, 6.93399366e-03],\n",
              "       [9.85508025e-01, 2.11215764e-03, 1.23797450e-02],\n",
              "       [6.21865571e-01, 1.58279240e-01, 2.19855160e-01],\n",
              "       [9.78096426e-01, 1.84845868e-02, 3.41897458e-03],\n",
              "       [6.89126492e-01, 1.07295588e-01, 2.03577936e-01],\n",
              "       [9.95376110e-01, 3.79633042e-04, 4.24432568e-03],\n",
              "       [6.91114485e-01, 2.64044970e-01, 4.48405929e-02],\n",
              "       [9.72863019e-01, 2.97142658e-03, 2.41655987e-02],\n",
              "       [8.61124814e-01, 1.97366048e-02, 1.19138539e-01],\n",
              "       [6.72250092e-01, 5.07298447e-02, 2.77020097e-01],\n",
              "       [9.76688206e-01, 2.48797517e-03, 2.08237544e-02],\n",
              "       [9.88371193e-01, 1.40686694e-03, 1.02219125e-02],\n",
              "       [9.74675298e-01, 2.62941048e-03, 2.26953905e-02],\n",
              "       [9.90618646e-01, 1.42995641e-03, 7.95142632e-03],\n",
              "       [9.33275938e-01, 9.42554045e-03, 5.72985411e-02],\n",
              "       [9.77158546e-01, 3.59931542e-03, 1.92421041e-02],\n",
              "       [9.54924107e-01, 9.47529357e-03, 3.56006734e-02],\n",
              "       [9.34836984e-01, 2.26673819e-02, 4.24957089e-02],\n",
              "       [7.20079005e-01, 5.11175469e-02, 2.28803501e-01],\n",
              "       [3.50127280e-01, 1.03927620e-01, 5.45945168e-01],\n",
              "       [4.34086204e-01, 4.16578829e-01, 1.49334967e-01],\n",
              "       [8.21072757e-01, 1.44479528e-01, 3.44476923e-02],\n",
              "       [8.60307515e-01, 1.17547609e-01, 2.21450049e-02],\n",
              "       [9.98385668e-01, 3.24998895e-04, 1.28935941e-03],\n",
              "       [9.77471292e-01, 2.88799312e-03, 1.96406953e-02],\n",
              "       [9.42469597e-01, 3.12478542e-02, 2.62825079e-02],\n",
              "       [9.88403916e-01, 6.53793977e-04, 1.09422356e-02],\n",
              "       [9.99566972e-01, 6.66083724e-05, 3.66426772e-04],\n",
              "       [9.16987002e-01, 2.81695686e-02, 5.48433699e-02],\n",
              "       [7.60411918e-01, 4.30438407e-02, 1.96544275e-01],\n",
              "       [9.66468036e-01, 1.99425835e-02, 1.35894148e-02],\n",
              "       [9.27227139e-01, 1.48953386e-02, 5.78775778e-02],\n",
              "       [9.32273507e-01, 3.00796796e-03, 6.47185370e-02],\n",
              "       [4.30793269e-03, 9.93573844e-01, 2.11828109e-03],\n",
              "       [2.38016725e-01, 7.38495946e-01, 2.34873742e-02],\n",
              "       [2.47061362e-05, 9.99972820e-01, 2.44559260e-06],\n",
              "       [8.08154285e-01, 6.72267377e-02, 1.24618992e-01],\n",
              "       [6.51691062e-03, 9.92752671e-01, 7.30368716e-04],\n",
              "       [1.51605401e-02, 9.83677149e-01, 1.16237067e-03],\n",
              "       [1.06179300e-06, 9.99989271e-01, 9.61635669e-06],\n",
              "       [6.48581311e-02, 9.13823187e-01, 2.13187393e-02],\n",
              "       [1.64246158e-04, 9.99785781e-01, 4.99239904e-05],\n",
              "       [4.50622283e-05, 9.99947667e-01, 7.30362490e-06],\n",
              "       [8.06968892e-09, 1.00000000e+00, 7.86145926e-10],\n",
              "       [2.80639470e-01, 8.41175541e-02, 6.35243058e-01],\n",
              "       [5.93157834e-04, 9.99013782e-01, 3.93002905e-04],\n",
              "       [3.42268526e-04, 9.99567688e-01, 9.01394960e-05],\n",
              "       [9.46618311e-05, 9.99862671e-01, 4.26791521e-05],\n",
              "       [1.26746500e-07, 9.99999881e-01, 1.89911074e-08],\n",
              "       [2.16726985e-05, 9.99961734e-01, 1.65843903e-05],\n",
              "       [6.64096931e-03, 9.91992176e-01, 1.36693474e-03],\n",
              "       [2.52396800e-04, 9.99591589e-01, 1.55995192e-04],\n",
              "       [9.94773582e-03, 9.87450778e-01, 2.60149292e-03],\n",
              "       [1.88366661e-03, 9.97874260e-01, 2.42121663e-04],\n",
              "       [1.90339473e-04, 9.99764025e-01, 4.56626549e-05],\n",
              "       [4.07813604e-05, 9.99942899e-01, 1.62961478e-05],\n",
              "       [5.78572476e-12, 1.00000000e+00, 4.21947091e-13],\n",
              "       [1.97128847e-09, 1.00000000e+00, 1.95652869e-10],\n",
              "       [8.05690433e-06, 9.99990344e-01, 1.58650153e-06],\n",
              "       [2.05484253e-06, 9.99997854e-01, 7.54642357e-08],\n",
              "       [2.82707248e-07, 9.99999642e-01, 6.72643523e-08],\n",
              "       [1.57749038e-02, 9.76643622e-01, 7.58149195e-03],\n",
              "       [2.71254722e-02, 9.68233228e-01, 4.64140438e-03],\n",
              "       [3.37598473e-02, 9.55988944e-01, 1.02511495e-02],\n",
              "       [7.97933467e-07, 9.99999046e-01, 7.44492610e-08],\n",
              "       [1.19568044e-02, 9.80710387e-01, 7.33285211e-03],\n",
              "       [1.72075147e-07, 9.99999881e-01, 1.71996302e-08],\n",
              "       [2.66831506e-07, 9.99999762e-01, 3.88807244e-08],\n",
              "       [2.07320802e-04, 9.99742448e-01, 5.02337316e-05],\n",
              "       [5.81953585e-01, 3.86632919e-01, 3.14134024e-02],\n",
              "       [1.60032755e-07, 9.99999881e-01, 2.23770762e-08],\n",
              "       [1.24444962e-02, 9.83838558e-01, 3.71691585e-03],\n",
              "       [5.01173463e-06, 9.99993443e-01, 1.59026922e-06],\n",
              "       [9.60212710e-05, 9.99845028e-01, 5.88636758e-05],\n",
              "       [3.46707267e-08, 1.00000000e+00, 1.07174225e-09],\n",
              "       [7.36970396e-05, 9.99905467e-01, 2.08491892e-05],\n",
              "       [1.30826961e-02, 9.78660822e-01, 8.25639162e-03],\n",
              "       [4.36867513e-02, 9.41049218e-01, 1.52640035e-02],\n",
              "       [1.50531632e-04, 9.99819636e-01, 2.97404822e-05],\n",
              "       [2.83364017e-07, 9.99999762e-01, 7.70493891e-09],\n",
              "       [4.54768747e-01, 2.51887053e-01, 2.93344200e-01],\n",
              "       [3.06682273e-06, 9.99996662e-01, 2.64915826e-07],\n",
              "       [9.89825070e-01, 8.04580399e-04, 9.37035773e-03],\n",
              "       [5.70519603e-07, 1.08549344e-07, 9.99999285e-01],\n",
              "       [1.44073365e-05, 2.07252151e-06, 9.99983549e-01],\n",
              "       [6.94232993e-04, 3.53570213e-04, 9.98952150e-01],\n",
              "       [2.86699343e-03, 1.64994237e-03, 9.95483041e-01],\n",
              "       [2.96667073e-04, 1.07528118e-04, 9.99595761e-01],\n",
              "       [1.52799737e-06, 1.69615618e-07, 9.99998331e-01],\n",
              "       [2.03358885e-02, 7.30014034e-03, 9.72363949e-01],\n",
              "       [4.99308184e-02, 2.29382459e-02, 9.27130878e-01],\n",
              "       [2.68978834e-01, 1.15239364e-03, 7.29868770e-01],\n",
              "       [2.96227336e-01, 3.05820614e-01, 3.97952050e-01],\n",
              "       [1.36574288e-03, 2.49606346e-05, 9.98609304e-01],\n",
              "       [2.48611774e-02, 3.46652092e-03, 9.71672237e-01],\n",
              "       [4.66088112e-03, 1.27432329e-04, 9.95211601e-01],\n",
              "       [1.92945916e-02, 2.64421641e-03, 9.78061199e-01],\n",
              "       [5.64196110e-01, 8.38775374e-03, 4.27416146e-01],\n",
              "       [1.49743464e-11, 1.71070623e-13, 1.00000000e+00],\n",
              "       [7.35347765e-03, 2.46024225e-04, 9.92400587e-01],\n",
              "       [4.80806397e-04, 1.43321289e-04, 9.99375820e-01],\n",
              "       [1.00101461e-04, 1.48595955e-05, 9.99885082e-01],\n",
              "       [4.57154633e-03, 1.78209075e-03, 9.93646324e-01],\n",
              "       [1.92422986e-01, 9.78042930e-02, 7.09772706e-01],\n",
              "       [1.14108867e-03, 1.02194135e-04, 9.98756766e-01],\n",
              "       [1.14509594e-02, 1.03319716e-03, 9.87515807e-01],\n",
              "       [1.54780885e-02, 1.07391793e-02, 9.73782659e-01],\n",
              "       [4.20584947e-01, 3.48311588e-02, 5.44583976e-01],\n",
              "       [1.41978066e-03, 2.04943353e-04, 9.98375297e-01],\n",
              "       [4.57926154e-01, 2.69884795e-01, 2.72189081e-01],\n",
              "       [6.03453547e-04, 3.10914766e-04, 9.99085665e-01],\n",
              "       [7.99667649e-03, 7.78008997e-01, 2.13994384e-01],\n",
              "       [6.10247807e-05, 1.65061083e-05, 9.99922514e-01],\n",
              "       [8.23102444e-02, 2.26751864e-01, 6.90937936e-01],\n",
              "       [1.91217095e-01, 1.72784224e-01, 6.35998666e-01],\n",
              "       [2.49330094e-03, 6.07563648e-04, 9.96899128e-01],\n",
              "       [4.91036859e-04, 1.44861799e-04, 9.99364078e-01],\n",
              "       [1.22590587e-02, 2.51847110e-03, 9.85222459e-01],\n",
              "       [1.67143469e-06, 5.16551104e-08, 9.99998331e-01],\n",
              "       [6.91356639e-10, 1.97719827e-11, 1.00000000e+00],\n",
              "       [8.77181888e-01, 3.08969766e-02, 9.19211209e-02],\n",
              "       [6.59982106e-07, 1.01556132e-07, 9.99999285e-01],\n",
              "       [8.48684907e-02, 3.40473801e-02, 8.81084144e-01],\n",
              "       [5.99794269e-01, 4.50948104e-02, 3.55110854e-01],\n",
              "       [2.59397123e-02, 1.86342914e-02, 9.55426037e-01],\n",
              "       [1.11107965e-06, 7.75679268e-07, 9.99998093e-01],\n",
              "       [2.24979979e-10, 1.53925032e-11, 1.00000000e+00],\n",
              "       [2.10687911e-04, 2.27324563e-05, 9.99766529e-01],\n",
              "       [1.66393534e-06, 4.12568738e-07, 9.99997973e-01],\n",
              "       [4.93600019e-05, 1.52168241e-05, 9.99935389e-01],\n",
              "       [2.95544646e-06, 6.36901461e-07, 9.99996424e-01],\n",
              "       [4.91489209e-02, 1.18351420e-02, 9.39015985e-01],\n",
              "       [8.02608381e-04, 3.09798634e-04, 9.98887599e-01]], dtype=float32)"
            ]
          },
          "metadata": {},
          "execution_count": 14
        }
      ]
    },
    {
      "cell_type": "code",
      "source": [],
      "metadata": {
        "id": "IsfiKTloicue"
      },
      "execution_count": null,
      "outputs": []
    },
    {
      "cell_type": "markdown",
      "source": [
        "#"
      ],
      "metadata": {
        "id": "JeqUkB9RVJxT"
      }
    }
  ]
}